{
 "cells": [
  {
   "cell_type": "code",
   "execution_count": 1,
   "id": "094968a4",
   "metadata": {},
   "outputs": [],
   "source": [
    "from datetime import datetime\n",
    "from time import sleep\n",
    "\n",
    "import gerrit\n",
    "import github\n",
    "from util import create_communication_channels, store_communication_channels\n",
    "\n",
    "from tqdm.auto import tqdm"
   ]
  },
  {
   "cell_type": "code",
   "execution_count": 2,
   "id": "01f81195",
   "metadata": {},
   "outputs": [],
   "source": [
    "t_1, t_2 = datetime.fromisoformat('2024-03-04'), datetime.fromisoformat('2024-04-01')"
   ]
  },
  {
   "cell_type": "code",
   "execution_count": null,
   "id": "a77a5a6f",
   "metadata": {},
   "outputs": [],
   "source": [
    "gh = github.GitHubAPI('GITHUB_API_TOKEN')"
   ]
  },
  {
   "cell_type": "markdown",
   "id": "80dd2a16",
   "metadata": {},
   "source": [
    "## React"
   ]
  },
  {
   "cell_type": "code",
   "execution_count": null,
   "id": "e77b30e4",
   "metadata": {},
   "outputs": [],
   "source": [
    "react_pulls = gh.query('repos/facebook/react/pulls', params={'state': 'all', 'per_page': 100})\n",
    "tries = 10\n",
    "params = {'per_page': 100}\n",
    "react_timelines = {}\n",
    "for pull in tqdm(react_pulls, desc='Collect timeline from pulls'):\n",
    "    pull_number = pull['number']\n",
    "\n",
    "    # query fails with with ChunkedEncodingError from time to time; well done, GitHub, well done\n",
    "    for i in range(tries):  \n",
    "        try:\n",
    "            timeline = gh.query(f'repos/facebook/react/issues/{pull_number}/timeline', params=params)\n",
    "        except Exception:\n",
    "            if i < tries - 1: \n",
    "                params = {}\n",
    "                sleep(2**i) # some backoff\n",
    "                continue\n",
    "            else:\n",
    "                raise\n",
    "        break\n",
    "    \n",
    "react_activities = github.extract_activities(react_pulls, react_timelines)"
   ]
  },
  {
   "cell_type": "code",
   "execution_count": null,
   "id": "3ab05171",
   "metadata": {},
   "outputs": [],
   "source": [
    "sorted([user_id for user_id in react_activities.user_id.unique() if user_id and 'bot' in user_id])"
   ]
  },
  {
   "cell_type": "code",
   "execution_count": null,
   "id": "5007f09b",
   "metadata": {},
   "outputs": [],
   "source": [
    "react_bots = [\n",
    "    'react-sizebot',\n",
    "    'facebook-github-bot',\n",
    "    'vercel[bot]',\n",
    "    'github-actions[bot]',\n",
    "    'dependabot[bot]',\n",
    "    # 'mobot11', # https://github.com/mobot11\n",
    "    'codesandbox-ci[bot]',\n",
    "    'sizebot',\n",
    "    #  'ybot1122',# https://github.com/ybot1122\n",
    "    'inclusive-coding-bot',\n",
    "    'stale[bot]',\n",
    "    #  'maksbotan', # https://github.com/maksbotan\n",
    "    #  'benbot', # https://github.com/benbot\n",
    "    'pull-bot',\n",
    "    #  'rowinbot', # https://github.com/rowinbot\n",
    "    'reactjs-bot',\n",
    "    #  'hprobotic', # https://github.com/hprobotic\n",
    "    #  'dabbott', # https://github.com/dabbott\n",
    "    #  'sarbbottam', # https://github.com/sarbbottam\n",
    "    #  'iRobot98', # https://github.com/iRobot98\n",
    "    #  'kebot', # https://github.com/kebot\n",
    "    #  'tobinibot',  # https://github.com/tobinibot\n",
    "]"
   ]
  },
  {
   "cell_type": "code",
   "execution_count": null,
   "id": "cdf6ff43",
   "metadata": {},
   "outputs": [],
   "source": [
    "react_human_activities = react_activities[~react_activities.user_id.isin(react_bots)]"
   ]
  },
  {
   "cell_type": "code",
   "execution_count": null,
   "id": "d480ffcb",
   "metadata": {},
   "outputs": [],
   "source": [
    "react_communication_channels = create_communication_channels(react_human_activities, t_1, t_2)"
   ]
  },
  {
   "cell_type": "code",
   "execution_count": null,
   "id": "5fa0b652",
   "metadata": {},
   "outputs": [],
   "source": [
    "store_communication_channels(react_communication_channels, 'react.json.bz2')"
   ]
  },
  {
   "cell_type": "markdown",
   "id": "03d653c8",
   "metadata": {},
   "source": [
    "## Visual Studio Code"
   ]
  },
  {
   "cell_type": "code",
   "execution_count": null,
   "id": "6e0cdb3d",
   "metadata": {},
   "outputs": [],
   "source": [
    "vscode_pulls = gh.query('repos/microsoft/vscode/pulls', params={'state': 'all', 'per_page': 100})\n",
    "\n",
    "vscode_timelines = {}\n",
    "for pull in tqdm(vscode_pulls, desc='Collect timeline from pulls'):\n",
    "    pull_number = pull['number']\n",
    "    try:\n",
    "        timeline = gh.query(f'repos/microsoft/vscode/issues/{pull_number}/timeline', params={'per_page': 100})\n",
    "        vscode_timelines[pull_number] = timeline\n",
    "    except Exception:\n",
    "        # query fails with with ChunkedEncodingError from time to time; well done, GitHub, well done\n",
    "        timeline = gh.query(f'repos/microsoft/vscode/issues/{pull_number}/timeline')\n",
    "        vscode_timelines[pull_number] = timeline\n",
    "\n",
    "vscode_activities = github.extract_activities(vscode_pulls, vscode_timelines)"
   ]
  },
  {
   "cell_type": "code",
   "execution_count": null,
   "id": "cac52f81",
   "metadata": {},
   "outputs": [],
   "source": [
    "sorted([user_id for user_id in vscode_activities.user_id.unique() if user_id and 'bot' in user_id])"
   ]
  },
  {
   "cell_type": "code",
   "execution_count": null,
   "id": "1118ee7c",
   "metadata": {},
   "outputs": [],
   "source": [
    "vscode_bots = [\n",
    "    'microsoft-github-policy-service[bot]',\n",
    "    'vs-code-engineering[bot]',\n",
    "    'dependabot[bot]',\n",
    "    'faraon-bot',\n",
    "    'azure-pipelines[bot]',\n",
    "    # 'MoazzemHossain-bot', # https://github.com/MoazzemHossain-bot\n",
    "    # 'bot174', # https://github.com/bot174\n",
    "    'inclusive-coding-bot',\n",
    "    'magebot1',\n",
    "    # 'Rezagoli-bot', # https://github.com/Rezagoli-bot\n",
    "    'github-actions[bot]',\n",
    "    # 'marrie-bot', # https://github.com/marrie-bot\n",
    "    'vscodebot[bot]',\n",
    "    'codetriage-readme-bot',\n",
    "    'mention-bot',\n",
    "    # 'vsobotka', # https://github.com/vsobotka\n",
    "    # 'sarbbottam', # https://github.com/vsobotka\n",
    "    # 'MattTalbot', # https://github.com/MattTalbot\n",
    "]"
   ]
  },
  {
   "cell_type": "code",
   "execution_count": null,
   "id": "0eccb476",
   "metadata": {},
   "outputs": [],
   "source": [
    "vscode_human_activities = vscode_activities[~vscode_activities.user_id.isin(vscode_bots)]"
   ]
  },
  {
   "cell_type": "code",
   "execution_count": null,
   "id": "973140d3",
   "metadata": {},
   "outputs": [],
   "source": [
    "vscode_communication_channels = create_communication_channels(vscode_human_activities, t_1, t_2)"
   ]
  },
  {
   "cell_type": "code",
   "execution_count": null,
   "id": "e9ed6361",
   "metadata": {},
   "outputs": [],
   "source": [
    "store_communication_channels(vscode_communication_channels, 'vscode.json.bz2')"
   ]
  },
  {
   "cell_type": "markdown",
   "id": "01d70e30",
   "metadata": {},
   "source": [
    "## Android"
   ]
  },
  {
   "cell_type": "code",
   "execution_count": null,
   "id": "0eb6b8a4",
   "metadata": {},
   "outputs": [],
   "source": [
    "g = gerrit.GerritAPI('https://android-review.googlesource.com/')"
   ]
  },
  {
   "cell_type": "code",
   "execution_count": null,
   "id": "9efc3d6c",
   "metadata": {},
   "outputs": [],
   "source": [
    "android_changes = g.query('changes')"
   ]
  },
  {
   "cell_type": "code",
   "execution_count": null,
   "id": "f3d64251",
   "metadata": {},
   "outputs": [],
   "source": [
    "android_activities = gerrit.extract_activities(android_changes)"
   ]
  },
  {
   "cell_type": "code",
   "execution_count": null,
   "id": "2da6c43c",
   "metadata": {},
   "outputs": [],
   "source": [
    "selected_tags = ('autogenerated:gerrit:newPatchSet', 'autogenerated:gerrit:merge', 'autogenerated:gerrit:abandon', 'autogenerated:gerrit:restore')\n",
    "android_human_activities = android_activities[android_activities.message_tag.isnull() | android_activities.message_tag.str.contains('mailMessageId') | android_activities.message_tag.isin(selected_tags)]"
   ]
  },
  {
   "cell_type": "code",
   "execution_count": null,
   "id": "8a3b71de",
   "metadata": {},
   "outputs": [],
   "source": [
    "android_communication_channels = create_communication_channels(android_human_activities, t_1, t_2, code_review_col='change_id', participant_col='_account_id')"
   ]
  },
  {
   "cell_type": "code",
   "execution_count": null,
   "id": "0d870194",
   "metadata": {},
   "outputs": [],
   "source": [
    "store_communication_channels(android_communication_channels, 'android.json.bz2')"
   ]
  },
  {
   "cell_type": "code",
   "execution_count": null,
   "id": "5968f79a",
   "metadata": {},
   "outputs": [],
   "source": []
  }
 ],
 "metadata": {
  "kernelspec": {
   "display_name": "Python 3",
   "language": "python",
   "name": "python3"
  },
  "language_info": {
   "codemirror_mode": {
    "name": "ipython",
    "version": 3
   },
   "file_extension": ".py",
   "mimetype": "text/x-python",
   "name": "python",
   "nbconvert_exporter": "python",
   "pygments_lexer": "ipython3",
   "version": "3.12.4"
  }
 },
 "nbformat": 4,
 "nbformat_minor": 5
}
